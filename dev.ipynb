{
 "cells": [
  {
   "cell_type": "code",
   "execution_count": 1,
   "metadata": {},
   "outputs": [],
   "source": [
    "from UserSettings.Configuration import RunConfiguration\n",
    "from StrategyService.Strategy import Strategy\n",
    "from TradeHandlerService.LemonClass import Lemon\n",
    "#from TradeHandlerService.trade_handler import TradeHandler\n",
    "\n",
    "settings_source = \"usersettings.json\""
   ]
  },
  {
   "cell_type": "code",
   "execution_count": 2,
   "metadata": {},
   "outputs": [],
   "source": [
    "config = RunConfiguration(settings_source)"
   ]
  },
  {
   "cell_type": "code",
   "execution_count": 3,
   "metadata": {},
   "outputs": [],
   "source": [
    "lemon = Lemon(config)"
   ]
  },
  {
   "cell_type": "code",
   "execution_count": 4,
   "metadata": {},
   "outputs": [
    {
     "data": {
      "text/html": [
       "<div>\n",
       "<style scoped>\n",
       "    .dataframe tbody tr th:only-of-type {\n",
       "        vertical-align: middle;\n",
       "    }\n",
       "\n",
       "    .dataframe tbody tr th {\n",
       "        vertical-align: top;\n",
       "    }\n",
       "\n",
       "    .dataframe thead th {\n",
       "        text-align: right;\n",
       "    }\n",
       "</style>\n",
       "<table border=\"1\" class=\"dataframe\">\n",
       "  <thead>\n",
       "    <tr style=\"text-align: right;\">\n",
       "      <th></th>\n",
       "      <th>isin</th>\n",
       "      <th>title</th>\n",
       "      <th>quantity</th>\n",
       "      <th>buy_price_avg</th>\n",
       "      <th>estimated_price_total</th>\n",
       "      <th>estimated_price</th>\n",
       "    </tr>\n",
       "  </thead>\n",
       "  <tbody>\n",
       "    <tr>\n",
       "      <th>0</th>\n",
       "      <td>US0378331005</td>\n",
       "      <td>APPLE INC.</td>\n",
       "      <td>2</td>\n",
       "      <td>1448400</td>\n",
       "      <td>2888398</td>\n",
       "      <td>1444199</td>\n",
       "    </tr>\n",
       "    <tr>\n",
       "      <th>1</th>\n",
       "      <td>US88160R1014</td>\n",
       "      <td>TESLA INC.</td>\n",
       "      <td>1</td>\n",
       "      <td>2829000</td>\n",
       "      <td>1988800</td>\n",
       "      <td>1988800</td>\n",
       "    </tr>\n",
       "    <tr>\n",
       "      <th>2</th>\n",
       "      <td>US5949181045</td>\n",
       "      <td>MICROSOFT CORP.</td>\n",
       "      <td>1</td>\n",
       "      <td>2508000</td>\n",
       "      <td>2504000</td>\n",
       "      <td>2504000</td>\n",
       "    </tr>\n",
       "  </tbody>\n",
       "</table>\n",
       "</div>"
      ],
      "text/plain": [
       "           isin            title  quantity  buy_price_avg  \\\n",
       "0  US0378331005       APPLE INC.         2        1448400   \n",
       "1  US88160R1014       TESLA INC.         1        2829000   \n",
       "2  US5949181045  MICROSOFT CORP.         1        2508000   \n",
       "\n",
       "   estimated_price_total  estimated_price  \n",
       "0                2888398          1444199  \n",
       "1                1988800          1988800  \n",
       "2                2504000          2504000  "
      ]
     },
     "execution_count": 4,
     "metadata": {},
     "output_type": "execute_result"
    }
   ],
   "source": [
    "lemon.get_portfolio()"
   ]
  }
 ],
 "metadata": {
  "kernelspec": {
   "display_name": "venv",
   "language": "python",
   "name": "python3"
  },
  "language_info": {
   "codemirror_mode": {
    "name": "ipython",
    "version": 3
   },
   "file_extension": ".py",
   "mimetype": "text/x-python",
   "name": "python",
   "nbconvert_exporter": "python",
   "pygments_lexer": "ipython3",
   "version": "3.7.3"
  },
  "orig_nbformat": 4,
  "vscode": {
   "interpreter": {
    "hash": "d07b286243140906881405ac82d2538f02a01020761ba0e97eb09804a7f56d3d"
   }
  }
 },
 "nbformat": 4,
 "nbformat_minor": 2
}
