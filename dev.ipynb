{
 "cells": [
  {
   "cell_type": "code",
   "execution_count": 1,
   "metadata": {},
   "outputs": [],
   "source": [
    "from UserSettings.Configuration import RunConfiguration\n",
    "#from StrategyService.StrategyClass import Strategy\n",
    "from TradeHandlerService.LemonClass import Lemon\n",
    "from TradeHandlerService.TradeTranslator import TradeHandler\n",
    "\n",
    "settings_source = \"usersettings.json\""
   ]
  },
  {
   "cell_type": "code",
   "execution_count": 2,
   "metadata": {},
   "outputs": [],
   "source": [
    "config = RunConfiguration(settings_source)\n",
    "lemon = Lemon(config)"
   ]
  },
  {
   "cell_type": "code",
   "execution_count": 3,
   "metadata": {},
   "outputs": [],
   "source": [
    "w_new = {'US0378331099': 0.20,\n",
    " 'US88160R1014': 0.20,\n",
    " 'US5949181099': 0.60}"
   ]
  },
  {
   "cell_type": "code",
   "execution_count": 4,
   "metadata": {},
   "outputs": [
    {
     "data": {
      "text/plain": [
       "[{'isin': 'US0378331005', 'side': 'sell', 'order_amount': 2780400.0},\n",
       " {'isin': 'US88160R1014', 'side': 'sell', 'order_amount': 463800.0},\n",
       " {'isin': 'US5949181045', 'side': 'sell', 'order_amount': 2363000.0},\n",
       " {'isin': 'US0378331099', 'side': 'buy', 'order_amount': 1401800.0},\n",
       " {'isin': 'US5949181099', 'side': 'buy', 'order_amount': 4205400.0}]"
      ]
     },
     "execution_count": 4,
     "metadata": {},
     "output_type": "execute_result"
    }
   ],
   "source": [
    "trade_handler = TradeHandler(config, lemon)\n",
    "trade_handler.create_rebalance_frame(w_new)\n",
    "trade_handler.create_trade_instructions()"
   ]
  },
  {
   "cell_type": "code",
   "execution_count": 6,
   "metadata": {},
   "outputs": [
    {
     "data": {
      "text/html": [
       "<div>\n",
       "<style scoped>\n",
       "    .dataframe tbody tr th:only-of-type {\n",
       "        vertical-align: middle;\n",
       "    }\n",
       "\n",
       "    .dataframe tbody tr th {\n",
       "        vertical-align: top;\n",
       "    }\n",
       "\n",
       "    .dataframe thead th {\n",
       "        text-align: right;\n",
       "    }\n",
       "</style>\n",
       "<table border=\"1\" class=\"dataframe\">\n",
       "  <thead>\n",
       "    <tr style=\"text-align: right;\">\n",
       "      <th></th>\n",
       "      <th>w_old</th>\n",
       "      <th>w_new</th>\n",
       "      <th>abs_old</th>\n",
       "      <th>abs_new</th>\n",
       "      <th>delta</th>\n",
       "      <th>abs_delta</th>\n",
       "    </tr>\n",
       "  </thead>\n",
       "  <tbody>\n",
       "    <tr>\n",
       "      <th>US0378331005</th>\n",
       "      <td>0.396690</td>\n",
       "      <td>0.0</td>\n",
       "      <td>2780400.0</td>\n",
       "      <td>0.0</td>\n",
       "      <td>-2780400.0</td>\n",
       "      <td>2780400.0</td>\n",
       "    </tr>\n",
       "    <tr>\n",
       "      <th>US88160R1014</th>\n",
       "      <td>0.266172</td>\n",
       "      <td>0.2</td>\n",
       "      <td>1865600.0</td>\n",
       "      <td>1401800.0</td>\n",
       "      <td>-463800.0</td>\n",
       "      <td>463800.0</td>\n",
       "    </tr>\n",
       "    <tr>\n",
       "      <th>US5949181045</th>\n",
       "      <td>0.337138</td>\n",
       "      <td>0.0</td>\n",
       "      <td>2363000.0</td>\n",
       "      <td>0.0</td>\n",
       "      <td>-2363000.0</td>\n",
       "      <td>2363000.0</td>\n",
       "    </tr>\n",
       "    <tr>\n",
       "      <th>US0378331099</th>\n",
       "      <td>0.000000</td>\n",
       "      <td>0.2</td>\n",
       "      <td>0.0</td>\n",
       "      <td>1401800.0</td>\n",
       "      <td>1401800.0</td>\n",
       "      <td>1401800.0</td>\n",
       "    </tr>\n",
       "    <tr>\n",
       "      <th>US5949181099</th>\n",
       "      <td>0.000000</td>\n",
       "      <td>0.6</td>\n",
       "      <td>0.0</td>\n",
       "      <td>4205400.0</td>\n",
       "      <td>4205400.0</td>\n",
       "      <td>4205400.0</td>\n",
       "    </tr>\n",
       "  </tbody>\n",
       "</table>\n",
       "</div>"
      ],
      "text/plain": [
       "                 w_old  w_new    abs_old    abs_new      delta  abs_delta\n",
       "US0378331005  0.396690    0.0  2780400.0        0.0 -2780400.0  2780400.0\n",
       "US88160R1014  0.266172    0.2  1865600.0  1401800.0  -463800.0   463800.0\n",
       "US5949181045  0.337138    0.0  2363000.0        0.0 -2363000.0  2363000.0\n",
       "US0378331099  0.000000    0.2        0.0  1401800.0  1401800.0  1401800.0\n",
       "US5949181099  0.000000    0.6        0.0  4205400.0  4205400.0  4205400.0"
      ]
     },
     "execution_count": 6,
     "metadata": {},
     "output_type": "execute_result"
    }
   ],
   "source": [
    "trade_handler.rebalance_frame"
   ]
  },
  {
   "cell_type": "code",
   "execution_count": 5,
   "metadata": {},
   "outputs": [
    {
     "ename": "BusinessLogicError",
     "evalue": "(datetime.datetime(2023, 2, 26, 20, 4, 35, 139000, tzinfo=datetime.timezone.utc), 'insufficient_holdings', 'Insufficient instrument holdings: Can only sell up to 2 shares, 0 shares are open to be sold')",
     "output_type": "error",
     "traceback": [
      "\u001b[0;31m---------------------------------------------------------------------------\u001b[0m",
      "\u001b[0;31mBusinessLogicError\u001b[0m                        Traceback (most recent call last)",
      "\u001b[0;32m/var/folders/2g/2ctgqg7j5qncybjxytxdq6fw0000gn/T/ipykernel_10952/2383592327.py\u001b[0m in \u001b[0;36m<module>\u001b[0;34m\u001b[0m\n\u001b[0;32m----> 1\u001b[0;31m \u001b[0mlemon\u001b[0m\u001b[0;34m.\u001b[0m\u001b[0mplace_multi_order\u001b[0m\u001b[0;34m(\u001b[0m\u001b[0mtrade_handler\u001b[0m\u001b[0;34m.\u001b[0m\u001b[0mtrade_instructions\u001b[0m\u001b[0;34m,\u001b[0m \u001b[0mactivate\u001b[0m\u001b[0;34m=\u001b[0m\u001b[0;32mFalse\u001b[0m\u001b[0;34m)\u001b[0m\u001b[0;34m\u001b[0m\u001b[0;34m\u001b[0m\u001b[0m\n\u001b[0m",
      "\u001b[0;32m~/Documents/PYTHON/PROJECTS/TradeLib/TradeHandlerService/LemonClass.py\u001b[0m in \u001b[0;36mplace_multi_order\u001b[0;34m(self, order_list, activate)\u001b[0m\n\u001b[1;32m    265\u001b[0m                 \u001b[0mlimit_price\u001b[0m\u001b[0;34m=\u001b[0m\u001b[0morder\u001b[0m\u001b[0;34m.\u001b[0m\u001b[0mget\u001b[0m\u001b[0;34m(\u001b[0m\u001b[0;34m\"limit_price\"\u001b[0m\u001b[0;34m)\u001b[0m\u001b[0;34m,\u001b[0m\u001b[0;34m\u001b[0m\u001b[0;34m\u001b[0m\u001b[0m\n\u001b[1;32m    266\u001b[0m                 \u001b[0mnotes\u001b[0m\u001b[0;34m=\u001b[0m\u001b[0morder\u001b[0m\u001b[0;34m.\u001b[0m\u001b[0mget\u001b[0m\u001b[0;34m(\u001b[0m\u001b[0;34m\"notes\"\u001b[0m\u001b[0;34m)\u001b[0m\u001b[0;34m,\u001b[0m\u001b[0;34m\u001b[0m\u001b[0;34m\u001b[0m\u001b[0m\n\u001b[0;32m--> 267\u001b[0;31m                 \u001b[0midempotency\u001b[0m\u001b[0;34m=\u001b[0m\u001b[0morder\u001b[0m\u001b[0;34m.\u001b[0m\u001b[0mget\u001b[0m\u001b[0;34m(\u001b[0m\u001b[0;34m\"idempotency\"\u001b[0m\u001b[0;34m)\u001b[0m\u001b[0;34m\u001b[0m\u001b[0;34m\u001b[0m\u001b[0m\n\u001b[0m\u001b[1;32m    268\u001b[0m             )\n\u001b[1;32m    269\u001b[0m         \u001b[0mlogger\u001b[0m\u001b[0;34m.\u001b[0m\u001b[0minfo\u001b[0m\u001b[0;34m(\u001b[0m\u001b[0;34mf\"Created {len(order_list)} orders.\"\u001b[0m\u001b[0;34m)\u001b[0m\u001b[0;34m\u001b[0m\u001b[0;34m\u001b[0m\u001b[0m\n",
      "\u001b[0;32m~/Documents/PYTHON/PROJECTS/TradeLib/TradeHandlerService/LemonClass.py\u001b[0m in \u001b[0;36mplace_order_v2\u001b[0;34m(self, isin, side, activate, **kwargs)\u001b[0m\n\u001b[1;32m    186\u001b[0m             \u001b[0mlimit_price\u001b[0m\u001b[0;34m=\u001b[0m\u001b[0mkwargs\u001b[0m\u001b[0;34m.\u001b[0m\u001b[0mget\u001b[0m\u001b[0;34m(\u001b[0m\u001b[0;34m\"limit_price\"\u001b[0m\u001b[0;34m)\u001b[0m\u001b[0;34m,\u001b[0m\u001b[0;34m\u001b[0m\u001b[0;34m\u001b[0m\u001b[0m\n\u001b[1;32m    187\u001b[0m             \u001b[0mnotes\u001b[0m\u001b[0;34m=\u001b[0m\u001b[0mkwargs\u001b[0m\u001b[0;34m.\u001b[0m\u001b[0mget\u001b[0m\u001b[0;34m(\u001b[0m\u001b[0;34m\"notes\"\u001b[0m\u001b[0;34m)\u001b[0m\u001b[0;34m,\u001b[0m\u001b[0;34m\u001b[0m\u001b[0;34m\u001b[0m\u001b[0m\n\u001b[0;32m--> 188\u001b[0;31m             \u001b[0midempotency\u001b[0m\u001b[0;34m=\u001b[0m\u001b[0mkwargs\u001b[0m\u001b[0;34m.\u001b[0m\u001b[0mget\u001b[0m\u001b[0;34m(\u001b[0m\u001b[0;34m\"idempotency\"\u001b[0m\u001b[0;34m)\u001b[0m\u001b[0;34m\u001b[0m\u001b[0;34m\u001b[0m\u001b[0m\n\u001b[0m\u001b[1;32m    189\u001b[0m         )\n\u001b[1;32m    190\u001b[0m         \u001b[0;31m# activate order\u001b[0m\u001b[0;34m\u001b[0m\u001b[0;34m\u001b[0m\u001b[0;34m\u001b[0m\u001b[0m\n",
      "\u001b[0;32m~/Documents/PYTHON/PROJECTS/TradeLib/venv/lib/python3.7/site-packages/lemon/trading/orders.py\u001b[0m in \u001b[0;36mcreate\u001b[0;34m(self, isin, side, quantity, expires_at, stop_price, limit_price, venue, notes, idempotency)\u001b[0m\n\u001b[1;32m     86\u001b[0m                 \u001b[0;34m\"limit_price\"\u001b[0m\u001b[0;34m:\u001b[0m \u001b[0mlimit_price\u001b[0m\u001b[0;34m,\u001b[0m\u001b[0;34m\u001b[0m\u001b[0;34m\u001b[0m\u001b[0m\n\u001b[1;32m     87\u001b[0m                 \u001b[0;34m\"notes\"\u001b[0m\u001b[0;34m:\u001b[0m \u001b[0mnotes\u001b[0m\u001b[0;34m,\u001b[0m\u001b[0;34m\u001b[0m\u001b[0;34m\u001b[0m\u001b[0m\n\u001b[0;32m---> 88\u001b[0;31m                 \u001b[0;34m\"idempotency\"\u001b[0m\u001b[0;34m:\u001b[0m \u001b[0midempotency\u001b[0m\u001b[0;34m,\u001b[0m\u001b[0;34m\u001b[0m\u001b[0;34m\u001b[0m\u001b[0m\n\u001b[0m\u001b[1;32m     89\u001b[0m             },\n\u001b[1;32m     90\u001b[0m         )\n",
      "\u001b[0;32m~/Documents/PYTHON/PROJECTS/TradeLib/venv/lib/python3.7/site-packages/lemon/base.py\u001b[0m in \u001b[0;36minner\u001b[0;34m(*arg, **kwargs)\u001b[0m\n\u001b[1;32m     37\u001b[0m                 \u001b[0;32mraise\u001b[0m \u001b[0mAuthenticationError\u001b[0m\u001b[0;34m.\u001b[0m\u001b[0m_from_data\u001b[0m\u001b[0;34m(\u001b[0m\u001b[0merror\u001b[0m\u001b[0;34m)\u001b[0m\u001b[0;34m\u001b[0m\u001b[0;34m\u001b[0m\u001b[0m\n\u001b[1;32m     38\u001b[0m \u001b[0;34m\u001b[0m\u001b[0m\n\u001b[0;32m---> 39\u001b[0;31m             \u001b[0;32mraise\u001b[0m \u001b[0mBusinessLogicError\u001b[0m\u001b[0;34m.\u001b[0m\u001b[0m_from_data\u001b[0m\u001b[0;34m(\u001b[0m\u001b[0merror\u001b[0m\u001b[0;34m)\u001b[0m\u001b[0;34m\u001b[0m\u001b[0;34m\u001b[0m\u001b[0m\n\u001b[0m\u001b[1;32m     40\u001b[0m \u001b[0;34m\u001b[0m\u001b[0m\n\u001b[1;32m     41\u001b[0m         \u001b[0;32mreturn\u001b[0m \u001b[0mresponse\u001b[0m\u001b[0;34m\u001b[0m\u001b[0;34m\u001b[0m\u001b[0m\n",
      "\u001b[0;31mBusinessLogicError\u001b[0m: (datetime.datetime(2023, 2, 26, 20, 4, 35, 139000, tzinfo=datetime.timezone.utc), 'insufficient_holdings', 'Insufficient instrument holdings: Can only sell up to 2 shares, 0 shares are open to be sold')"
     ]
    }
   ],
   "source": [
    "lemon.place_multi_order(trade_handler.trade_instructions, activate=False)\n",
    "# TODO: fix this bug -> geht glaub ich in den TradeTranslator zurück, der passt noch nicht!"
   ]
  }
 ],
 "metadata": {
  "kernelspec": {
   "display_name": "venv",
   "language": "python",
   "name": "python3"
  },
  "language_info": {
   "codemirror_mode": {
    "name": "ipython",
    "version": 3
   },
   "file_extension": ".py",
   "mimetype": "text/x-python",
   "name": "python",
   "nbconvert_exporter": "python",
   "pygments_lexer": "ipython3",
   "version": "3.7.3"
  },
  "orig_nbformat": 4,
  "vscode": {
   "interpreter": {
    "hash": "d07b286243140906881405ac82d2538f02a01020761ba0e97eb09804a7f56d3d"
   }
  }
 },
 "nbformat": 4,
 "nbformat_minor": 2
}
