{
 "cells": [
  {
   "cell_type": "code",
   "execution_count": 1,
   "metadata": {},
   "outputs": [],
   "source": [
    "from UserSettings.Configuration import RunConfiguration\n",
    "from StrategyService.Strategy import Strategy\n",
    "from TradeHandlerService.LemonClass import Lemon\n",
    "#from TradeHandlerService.trade_handler import TradeHandler\n",
    "\n",
    "settings_source = \"usersettings.json\""
   ]
  },
  {
   "cell_type": "code",
   "execution_count": 2,
   "metadata": {},
   "outputs": [],
   "source": [
    "config = RunConfiguration(settings_source)\n",
    "lemon = Lemon(config)"
   ]
  },
  {
   "cell_type": "code",
   "execution_count": 3,
   "metadata": {},
   "outputs": [
    {
     "name": "stdout",
     "output_type": "stream",
     "text": [
      "['isin', 'title', 'quantity', 'buy_price_avg', 'estimated_price_total', 'estimated_price', 'w']\n",
      "... run hold strategy\n"
     ]
    }
   ],
   "source": [
    "strategy = Strategy(config, lemon) # data\n",
    "strategy.run_strategy_wrapper()"
   ]
  }
 ],
 "metadata": {
  "kernelspec": {
   "display_name": "venv",
   "language": "python",
   "name": "python3"
  },
  "language_info": {
   "codemirror_mode": {
    "name": "ipython",
    "version": 3
   },
   "file_extension": ".py",
   "mimetype": "text/x-python",
   "name": "python",
   "nbconvert_exporter": "python",
   "pygments_lexer": "ipython3",
   "version": "3.7.3"
  },
  "orig_nbformat": 4,
  "vscode": {
   "interpreter": {
    "hash": "d07b286243140906881405ac82d2538f02a01020761ba0e97eb09804a7f56d3d"
   }
  }
 },
 "nbformat": 4,
 "nbformat_minor": 2
}
