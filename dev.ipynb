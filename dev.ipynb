{
 "cells": [
  {
   "cell_type": "code",
   "execution_count": 10,
   "metadata": {},
   "outputs": [],
   "source": [
    "from UserSettings.Configuration import RunConfiguration\n",
    "#from StrategyService.StrategyClass import Strategy\n",
    "from TradeHandlerService.LemonClass import Lemon\n",
    "from TradeHandlerService.TradeTranslator import TradeHandler\n",
    "from Logger.config_logger import setup_logger\n",
    "\n",
    "settings_source = \"usersettings.json\""
   ]
  },
  {
   "cell_type": "code",
   "execution_count": 11,
   "metadata": {},
   "outputs": [],
   "source": [
    "logger = setup_logger(__name__)\n",
    "config = RunConfiguration(settings_source)\n",
    "lemon = Lemon(config)"
   ]
  },
  {
   "cell_type": "code",
   "execution_count": 12,
   "metadata": {},
   "outputs": [],
   "source": [
    "w_new = {'US0028241000': 0.20,\n",
    " 'US5949181045': 0.20,\n",
    " 'US0378331005': 0.60}"
   ]
  },
  {
   "cell_type": "code",
   "execution_count": 13,
   "metadata": {},
   "outputs": [
    {
     "data": {
      "text/plain": [
       "[{'isin': 'US0378331005',\n",
       "  'side': 'buy',\n",
       "  'quantity': 1434360.0,\n",
       "  'quantity_type': 'quantity'},\n",
       " {'isin': 'US88160R1014',\n",
       "  'side': 'sell',\n",
       "  'quantity': 1767400.0,\n",
       "  'quantity_type': 'quantity'},\n",
       " {'isin': 'US5949181045',\n",
       "  'side': 'sell',\n",
       "  'quantity': 1137480.0,\n",
       "  'quantity_type': 'quantity'},\n",
       " {'isin': 'US0028241000',\n",
       "  'side': 'buy',\n",
       "  'quantity': 1470520.0,\n",
       "  'quantity_type': 'quantity'}]"
      ]
     },
     "execution_count": 13,
     "metadata": {},
     "output_type": "execute_result"
    }
   ],
   "source": [
    "trade_handler = TradeHandler(config, lemon)\n",
    "trade_handler.create_rebalance_frame(w_new)\n",
    "trade_handler.create_trade_instructions()"
   ]
  },
  {
   "cell_type": "code",
   "execution_count": 14,
   "metadata": {},
   "outputs": [
    {
     "data": {
      "text/html": [
       "<div>\n",
       "<style scoped>\n",
       "    .dataframe tbody tr th:only-of-type {\n",
       "        vertical-align: middle;\n",
       "    }\n",
       "\n",
       "    .dataframe tbody tr th {\n",
       "        vertical-align: top;\n",
       "    }\n",
       "\n",
       "    .dataframe thead th {\n",
       "        text-align: right;\n",
       "    }\n",
       "</style>\n",
       "<table border=\"1\" class=\"dataframe\">\n",
       "  <thead>\n",
       "    <tr style=\"text-align: right;\">\n",
       "      <th></th>\n",
       "      <th>quantity</th>\n",
       "      <th>buy_price_avg</th>\n",
       "      <th>estimated_price_total</th>\n",
       "      <th>estimated_price</th>\n",
       "      <th>w_old</th>\n",
       "      <th>w_new</th>\n",
       "      <th>abs_old</th>\n",
       "      <th>abs_new</th>\n",
       "      <th>delta</th>\n",
       "      <th>abs_delta</th>\n",
       "    </tr>\n",
       "  </thead>\n",
       "  <tbody>\n",
       "    <tr>\n",
       "      <th>US0378331005</th>\n",
       "      <td>2.0</td>\n",
       "      <td>1448400.0</td>\n",
       "      <td>2977200.0</td>\n",
       "      <td>1488600.0</td>\n",
       "      <td>0.404918</td>\n",
       "      <td>0.6</td>\n",
       "      <td>2977200.0</td>\n",
       "      <td>4411560.0</td>\n",
       "      <td>1434360.0</td>\n",
       "      <td>1434360.0</td>\n",
       "    </tr>\n",
       "    <tr>\n",
       "      <th>US88160R1014</th>\n",
       "      <td>1.0</td>\n",
       "      <td>2829000.0</td>\n",
       "      <td>1767400.0</td>\n",
       "      <td>1767400.0</td>\n",
       "      <td>0.240378</td>\n",
       "      <td>0.0</td>\n",
       "      <td>1767400.0</td>\n",
       "      <td>0.0</td>\n",
       "      <td>-1767400.0</td>\n",
       "      <td>1767400.0</td>\n",
       "    </tr>\n",
       "    <tr>\n",
       "      <th>US5949181045</th>\n",
       "      <td>1.0</td>\n",
       "      <td>2508000.0</td>\n",
       "      <td>2608000.0</td>\n",
       "      <td>2608000.0</td>\n",
       "      <td>0.354704</td>\n",
       "      <td>0.2</td>\n",
       "      <td>2608000.0</td>\n",
       "      <td>1470520.0</td>\n",
       "      <td>-1137480.0</td>\n",
       "      <td>1137480.0</td>\n",
       "    </tr>\n",
       "    <tr>\n",
       "      <th>US0028241000</th>\n",
       "      <td>0.0</td>\n",
       "      <td>0.0</td>\n",
       "      <td>0.0</td>\n",
       "      <td>0.0</td>\n",
       "      <td>0.000000</td>\n",
       "      <td>0.2</td>\n",
       "      <td>0.0</td>\n",
       "      <td>1470520.0</td>\n",
       "      <td>1470520.0</td>\n",
       "      <td>1470520.0</td>\n",
       "    </tr>\n",
       "  </tbody>\n",
       "</table>\n",
       "</div>"
      ],
      "text/plain": [
       "              quantity  buy_price_avg  estimated_price_total  estimated_price  \\\n",
       "US0378331005       2.0      1448400.0              2977200.0        1488600.0   \n",
       "US88160R1014       1.0      2829000.0              1767400.0        1767400.0   \n",
       "US5949181045       1.0      2508000.0              2608000.0        2608000.0   \n",
       "US0028241000       0.0            0.0                    0.0              0.0   \n",
       "\n",
       "                 w_old  w_new    abs_old    abs_new      delta  abs_delta  \n",
       "US0378331005  0.404918    0.6  2977200.0  4411560.0  1434360.0  1434360.0  \n",
       "US88160R1014  0.240378    0.0  1767400.0        0.0 -1767400.0  1767400.0  \n",
       "US5949181045  0.354704    0.2  2608000.0  1470520.0 -1137480.0  1137480.0  \n",
       "US0028241000  0.000000    0.2        0.0  1470520.0  1470520.0  1470520.0  "
      ]
     },
     "execution_count": 14,
     "metadata": {},
     "output_type": "execute_result"
    }
   ],
   "source": [
    "trade_handler.rebalance_frame"
   ]
  },
  {
   "cell_type": "code",
   "execution_count": 15,
   "metadata": {},
   "outputs": [
    {
     "name": "stderr",
     "output_type": "stream",
     "text": [
      "Order quantity 0 of US5949181045 is less than or equal to zero.\n",
      "                Order will be dismissed.\n"
     ]
    },
    {
     "data": {
      "text/plain": [
       "{'order_id': 'ord_ryFhRbb33XDqZgM6H4zdt2TF8FHbdkXL5R',\n",
       " 'order_obj': CreateOrderResponse(time=datetime.datetime(2023, 3, 26, 15, 21, 43, 815000, tzinfo=datetime.timezone(datetime.timedelta(seconds=7200))), mode='paper', results=CreatedOrder(id='ord_ryFhRbb33XDqZgM6H4zdt2TF8FHbdkXL5R', status='inactive', created_at=datetime.datetime(2023, 3, 26, 15, 21, 43, 533000, tzinfo=datetime.timezone(datetime.timedelta(seconds=7200))), regulatory_information=RegulatoryInformation(costs_entry=10000, costs_entry_pct='0.55%', costs_running=0, costs_running_pct='0.00%', costs_product=0, costs_product_pct='0.00%', costs_exit=10000, costs_exit_pct='0.55%', yield_reduction_year=10000, yield_reduction_year_pct='0.55%', yield_reduction_year_following=0, yield_reduction_year_following_pct='0.00%', yield_reduction_year_exit=10000, yield_reduction_year_exit_pct='0.55%', estimated_holding_duration_years='5', estimated_yield_reduction_total=20000, estimated_yield_reduction_total_pct='1.10%', KIID='text', legal_disclaimer='The expected investment amount is based on the current buy or sell price or the selected limit or stop-loss price or stop-buy price. The actual execution price may differ. The assumed holding period for this security for the calculation of the absolute return reduction due to cost loading is 5 years. lemon.markets receives a payment of between € 0.00 and € 2.00 from the executing institution via its liability umbrella after execution of this transaction. In addition, lemon.markets bears the costs of this transaction charged by the executing institution, which are related to this transaction as well as to stock sizes (total annual transaction volume of lemon.markets). The actual payments received or granted are disclosed subsequently. Further information on this can be found in the customer documents.'), isin='US0028241000', expires_at=datetime.datetime(2023, 3, 27, 23, 59, tzinfo=datetime.timezone(datetime.timedelta(seconds=7200))), side='buy', quantity=2, stop_price=None, limit_price=None, venue='xmun', estimated_price=910400, estimated_price_total=1820800, notes=None, charge=0, chargeable_at=None, key_creation_id='f4e58499-c363-47c1-98d8-d32ffcc0e7f7', idempotency=None)),\n",
       " 'activated': None}"
      ]
     },
     "execution_count": 15,
     "metadata": {},
     "output_type": "execute_result"
    }
   ],
   "source": [
    "lemon.place_multi_order(trade_handler.trade_instructions, activate=False)"
   ]
  }
 ],
 "metadata": {
  "kernelspec": {
   "display_name": "venv",
   "language": "python",
   "name": "python3"
  },
  "language_info": {
   "codemirror_mode": {
    "name": "ipython",
    "version": 3
   },
   "file_extension": ".py",
   "mimetype": "text/x-python",
   "name": "python",
   "nbconvert_exporter": "python",
   "pygments_lexer": "ipython3",
   "version": "3.7.3"
  },
  "orig_nbformat": 4,
  "vscode": {
   "interpreter": {
    "hash": "d07b286243140906881405ac82d2538f02a01020761ba0e97eb09804a7f56d3d"
   }
  }
 },
 "nbformat": 4,
 "nbformat_minor": 2
}
