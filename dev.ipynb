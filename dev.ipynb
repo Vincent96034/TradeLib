{
 "cells": [
  {
   "cell_type": "code",
   "execution_count": 5,
   "metadata": {},
   "outputs": [],
   "source": [
    "from UserSettings.Configuration import RunConfiguration\n",
    "#from StrategyService.StrategyClass import Strategy\n",
    "from TradeHandlerService.LemonClass import Lemon\n",
    "from TradeHandlerService.TradeTranslator import TradeHandler\n",
    "from Logger.config_logger import setup_logger\n",
    "\n",
    "settings_source = \"usersettings.json\"\n",
    "config = RunConfiguration(settings_source)\n",
    "logger = setup_logger(__name__, config)\n",
    "lemon = Lemon(config)"
   ]
  },
  {
   "cell_type": "code",
   "execution_count": null,
   "metadata": {},
   "outputs": [],
   "source": []
  }
 ],
 "metadata": {
  "kernelspec": {
   "display_name": "venv",
   "language": "python",
   "name": "python3"
  },
  "language_info": {
   "codemirror_mode": {
    "name": "ipython",
    "version": 3
   },
   "file_extension": ".py",
   "mimetype": "text/x-python",
   "name": "python",
   "nbconvert_exporter": "python",
   "pygments_lexer": "ipython3",
   "version": "3.7.3"
  },
  "orig_nbformat": 4,
  "vscode": {
   "interpreter": {
    "hash": "d07b286243140906881405ac82d2538f02a01020761ba0e97eb09804a7f56d3d"
   }
  }
 },
 "nbformat": 4,
 "nbformat_minor": 2
}
